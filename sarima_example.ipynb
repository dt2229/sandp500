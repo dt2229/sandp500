{
 "cells": [
  {
   "cell_type": "code",
   "execution_count": 1,
   "id": "a9d94088",
   "metadata": {},
   "outputs": [
    {
     "name": "stdout",
     "output_type": "stream",
     "text": [
      "Requirement already satisfied: yfinance in /Users/boyuhu/opt/anaconda3/lib/python3.9/site-packages (0.1.79)\n",
      "Requirement already satisfied: requests>=2.26 in /Users/boyuhu/opt/anaconda3/lib/python3.9/site-packages (from yfinance) (2.27.1)\n",
      "Requirement already satisfied: multitasking>=0.0.7 in /Users/boyuhu/opt/anaconda3/lib/python3.9/site-packages (from yfinance) (0.0.11)\n",
      "Requirement already satisfied: numpy>=1.15 in /Users/boyuhu/opt/anaconda3/lib/python3.9/site-packages (from yfinance) (1.21.5)\n",
      "Requirement already satisfied: lxml>=4.5.1 in /Users/boyuhu/opt/anaconda3/lib/python3.9/site-packages (from yfinance) (4.8.0)\n",
      "Requirement already satisfied: appdirs>=1.4.4 in /Users/boyuhu/opt/anaconda3/lib/python3.9/site-packages (from yfinance) (1.4.4)\n",
      "Requirement already satisfied: pandas>=0.24.0 in /Users/boyuhu/opt/anaconda3/lib/python3.9/site-packages (from yfinance) (1.4.2)\n",
      "Requirement already satisfied: python-dateutil>=2.8.1 in /Users/boyuhu/opt/anaconda3/lib/python3.9/site-packages (from pandas>=0.24.0->yfinance) (2.8.2)\n",
      "Requirement already satisfied: pytz>=2020.1 in /Users/boyuhu/opt/anaconda3/lib/python3.9/site-packages (from pandas>=0.24.0->yfinance) (2021.3)\n",
      "Requirement already satisfied: six>=1.5 in /Users/boyuhu/opt/anaconda3/lib/python3.9/site-packages (from python-dateutil>=2.8.1->pandas>=0.24.0->yfinance) (1.16.0)\n",
      "Requirement already satisfied: idna<4,>=2.5 in /Users/boyuhu/opt/anaconda3/lib/python3.9/site-packages (from requests>=2.26->yfinance) (3.3)\n",
      "Requirement already satisfied: urllib3<1.27,>=1.21.1 in /Users/boyuhu/opt/anaconda3/lib/python3.9/site-packages (from requests>=2.26->yfinance) (1.26.9)\n",
      "Requirement already satisfied: charset-normalizer~=2.0.0 in /Users/boyuhu/opt/anaconda3/lib/python3.9/site-packages (from requests>=2.26->yfinance) (2.0.4)\n",
      "Requirement already satisfied: certifi>=2017.4.17 in /Users/boyuhu/opt/anaconda3/lib/python3.9/site-packages (from requests>=2.26->yfinance) (2021.10.8)\n",
      "Collecting pmdarima\n",
      "  Downloading pmdarima-2.0.2-cp39-cp39-macosx_10_9_x86_64.whl (608 kB)\n",
      "\u001b[K     |████████████████████████████████| 608 kB 5.3 MB/s eta 0:00:01\n",
      "\u001b[?25hRequirement already satisfied: statsmodels>=0.13.2 in /Users/boyuhu/opt/anaconda3/lib/python3.9/site-packages (from pmdarima) (0.13.2)\n",
      "Requirement already satisfied: joblib>=0.11 in /Users/boyuhu/opt/anaconda3/lib/python3.9/site-packages (from pmdarima) (1.1.0)\n",
      "Requirement already satisfied: urllib3 in /Users/boyuhu/opt/anaconda3/lib/python3.9/site-packages (from pmdarima) (1.26.9)\n",
      "Requirement already satisfied: Cython!=0.29.18,!=0.29.31,>=0.29 in /Users/boyuhu/opt/anaconda3/lib/python3.9/site-packages (from pmdarima) (0.29.28)\n",
      "Requirement already satisfied: scikit-learn>=0.22 in /Users/boyuhu/opt/anaconda3/lib/python3.9/site-packages (from pmdarima) (1.0.2)\n",
      "Requirement already satisfied: scipy>=1.3.2 in /Users/boyuhu/opt/anaconda3/lib/python3.9/site-packages (from pmdarima) (1.7.3)\n",
      "Requirement already satisfied: pandas>=0.19 in /Users/boyuhu/opt/anaconda3/lib/python3.9/site-packages (from pmdarima) (1.4.2)\n",
      "Requirement already satisfied: setuptools!=50.0.0,>=38.6.0 in /Users/boyuhu/opt/anaconda3/lib/python3.9/site-packages (from pmdarima) (61.2.0)\n",
      "Requirement already satisfied: numpy>=1.21.2 in /Users/boyuhu/opt/anaconda3/lib/python3.9/site-packages (from pmdarima) (1.21.5)\n",
      "Requirement already satisfied: python-dateutil>=2.8.1 in /Users/boyuhu/opt/anaconda3/lib/python3.9/site-packages (from pandas>=0.19->pmdarima) (2.8.2)\n",
      "Requirement already satisfied: pytz>=2020.1 in /Users/boyuhu/opt/anaconda3/lib/python3.9/site-packages (from pandas>=0.19->pmdarima) (2021.3)\n",
      "Requirement already satisfied: six>=1.5 in /Users/boyuhu/opt/anaconda3/lib/python3.9/site-packages (from python-dateutil>=2.8.1->pandas>=0.19->pmdarima) (1.16.0)\n",
      "Requirement already satisfied: threadpoolctl>=2.0.0 in /Users/boyuhu/opt/anaconda3/lib/python3.9/site-packages (from scikit-learn>=0.22->pmdarima) (2.2.0)\n",
      "Requirement already satisfied: patsy>=0.5.2 in /Users/boyuhu/opt/anaconda3/lib/python3.9/site-packages (from statsmodels>=0.13.2->pmdarima) (0.5.2)\n",
      "Requirement already satisfied: packaging>=21.3 in /Users/boyuhu/opt/anaconda3/lib/python3.9/site-packages (from statsmodels>=0.13.2->pmdarima) (21.3)\n",
      "Requirement already satisfied: pyparsing!=3.0.5,>=2.0.2 in /Users/boyuhu/opt/anaconda3/lib/python3.9/site-packages (from packaging>=21.3->statsmodels>=0.13.2->pmdarima) (3.0.4)\n",
      "Installing collected packages: pmdarima\n",
      "Successfully installed pmdarima-2.0.2\n"
     ]
    }
   ],
   "source": [
    "\n",
    "!pip install yfinance\n",
    "!pip install pmdarima"
   ]
  },
  {
   "cell_type": "code",
   "execution_count": 1,
   "id": "1593308d",
   "metadata": {},
   "outputs": [],
   "source": [
    "from pandas import read_csv\n",
    "from matplotlib import pyplot\n",
    "from statsmodels.graphics.tsaplots import plot_acf\n"
   ]
  },
  {
   "cell_type": "code",
   "execution_count": 2,
   "id": "5a92b3c2",
   "metadata": {},
   "outputs": [],
   "source": [
    "\n",
    "import yfinance as yf\n",
    "import pandas as pd\n",
    "import numpy as np\n",
    "import pmdarima as pm\n",
    "from pmdarima import model_selection\n",
    "from pmdarima.arima import auto_arima\n",
    "import matplotlib.pyplot as plt\n",
    "from matplotlib.pyplot import figure\n",
    "from sklearn.metrics import mean_squared_error, mean_squared_log_error, mean_absolute_percentage_error"
   ]
  },
  {
   "cell_type": "code",
   "execution_count": 3,
   "id": "54104f8f",
   "metadata": {},
   "outputs": [
    {
     "name": "stdout",
     "output_type": "stream",
     "text": [
      "[*********************100%***********************]  1 of 1 completed\n",
      "[*********************100%***********************]  1 of 1 completed\n",
      "[*********************100%***********************]  1 of 1 completed\n",
      "[*********************100%***********************]  1 of 1 completed\n",
      "[*********************100%***********************]  1 of 1 completed\n",
      "[*********************100%***********************]  1 of 1 completed\n"
     ]
    }
   ],
   "source": [
    "\n",
    "#SPY = SP500\n",
    "tickers = ['SPY', 'AAL', 'AMZN', 'PFE', 'DB', 'WMT']\n",
    "start_date='2012-01-01'\n",
    "end_date='2022-10-14'\n",
    "snp = yf.download(tickers[0], start=start_date, end=end_date)\n",
    "american = yf.download(tickers[1], start=start_date, end=end_date)\n",
    "amazon = yf.download(tickers[2], start=start_date, end=end_date)\n",
    "pfizer = yf.download(tickers[3], start=start_date, end=end_date)\n",
    "d_bank = yf.download(tickers[4], start=start_date, end=end_date)\n",
    "walmart = yf.download(tickers[5], start=start_date, end=end_date)"
   ]
  },
  {
   "cell_type": "code",
   "execution_count": 4,
   "id": "b07d7de2",
   "metadata": {},
   "outputs": [
    {
     "name": "stderr",
     "output_type": "stream",
     "text": [
      "/var/folders/3y/lmdxykwd5c520jxdy0t_rw340000gn/T/ipykernel_93067/864954105.py:12: SettingWithCopyWarning: \n",
      "A value is trying to be set on a copy of a slice from a DataFrame\n",
      "\n",
      "See the caveats in the documentation: https://pandas.pydata.org/pandas-docs/stable/user_guide/indexing.html#returning-a-view-versus-a-copy\n",
      "  walmart.rename(columns={'Adj Close':'adj_close'}, inplace=True)\n"
     ]
    }
   ],
   "source": [
    "\n",
    "snp = snp[[\"Adj Close\"]]\n",
    "snp.rename(columns={'Adj Close':'adj_close'}, inplace=True)\n",
    "american = american[[\"Adj Close\"]]\n",
    "american.rename(columns={'Adj Close':'adj_close'}, inplace=True)\n",
    "amazon = amazon[[\"Adj Close\"]]\n",
    "amazon.rename(columns={'Adj Close':'adj_close'}, inplace=True)\n",
    "pfizer = pfizer[[\"Adj Close\"]]\n",
    "pfizer.rename(columns={'Adj Close':'adj_close'}, inplace=True)\n",
    "d_bank = d_bank[[\"Adj Close\"]]\n",
    "d_bank.rename(columns={'Adj Close':'adj_close'}, inplace=True)\n",
    "walmart = walmart[[\"Adj Close\"]]\n",
    "walmart.rename(columns={'Adj Close':'adj_close'}, inplace=True)"
   ]
  },
  {
   "cell_type": "code",
   "execution_count": 6,
   "id": "3b231d52",
   "metadata": {},
   "outputs": [],
   "source": [
    "from statsmodels.graphics.tsaplots import plot_pacf\n",
    "from statsmodels.graphics.tsaplots import plot_acf\n",
    "from statsmodels.tsa.statespace.sarimax import SARIMAX\n",
    "from statsmodels.tsa.holtwinters import ExponentialSmoothing\n",
    "from statsmodels.tsa.stattools import adfuller\n",
    "import matplotlib.pyplot as plt\n",
    "from tqdm import tqdm_notebook\n",
    "import numpy as np\n",
    "import pandas as pd\n",
    "from itertools import product\n",
    "import warnings\n",
    "warnings.filterwarnings('ignore')"
   ]
  },
  {
   "cell_type": "code",
   "execution_count": 7,
   "id": "98cd0c31",
   "metadata": {},
   "outputs": [
    {
     "data": {
      "image/png": "[encoded data removed]",
      "text/plain": [
       "<Figure size 432x288 with 1 Axes>"
      ]
     },
     "metadata": {
      "needs_background": "light"
     },
     "output_type": "display_data"
    },
    {
     "data": {
      "image/png": "[encoded data removed]",
      "text/plain": [
       "<Figure size 432x288 with 1 Axes>"
      ]
     },
     "metadata": {
      "needs_background": "light"
     },
     "output_type": "display_data"
    }
   ],
   "source": [
    "plot_pacf(snp);\n",
    "plot_acf(snp);"
   ]
  },
  {
   "cell_type": "code",
   "execution_count": 8,
   "id": "c4e8a095",
   "metadata": {},
   "outputs": [
    {
     "name": "stdout",
     "output_type": "stream",
     "text": [
      "ADF Statistic: -10.651966276401742\n",
      "p-value: 4.636422224907691e-19\n"
     ]
    }
   ],
   "source": [
    "ad_fuller_result = adfuller(snp.diff().dropna())\n",
    "print(f'ADF Statistic: {ad_fuller_result[0]}')\n",
    "print(f'p-value: {ad_fuller_result[1]}')"
   ]
  },
  {
   "cell_type": "code",
   "execution_count": null,
   "id": "c88a4b9a",
   "metadata": {},
   "outputs": [],
   "source": [
    "\n",
    "train = snp.iloc[:int(snp.shape[0]*0.8)]\n",
    "test = snp.iloc[int(snp.shape[0]*0.8):]"
   ]
  },
  {
   "cell_type": "code",
   "execution_count": 19,
   "id": "57669573",
   "metadata": {},
   "outputs": [],
   "source": [
    "from sklearn.model_selection import TimeSeriesSplit"
   ]
  },
  {
   "cell_type": "code",
   "execution_count": 25,
   "id": "3e00d86d",
   "metadata": {},
   "outputs": [
    {
     "name": "stdout",
     "output_type": "stream",
     "text": [
      "0.08743755785216295\n",
      "0.2142660166895554\n",
      "0.06490975100713173\n"
     ]
    }
   ],
   "source": [
    "mape_arima = []\n",
    "tscv = TimeSeriesSplit(max_train_size = None, n_splits = 3)\n",
    "for train_index, valid_index in tscv.split(train):\n",
    "    train_value, valid_value = train.iloc[train_index, :], train.iloc[valid_index, :]\n",
    "    model = SARIMAX(train_value, order=(2, 1, 0), seasonal_order=(0, 1, 0, 252)).fit(disp=-1)\n",
    "    # Fit the model \n",
    "    preds = model.predict(start=train_value.shape[0]+1, end = train_value.shape[0]+valid_value.shape[0])\n",
    "    metrics = mean_absolute_percentage_error(preds, valid_value)\n",
    "    print(metrics)\n",
    "    mape_arima.append(metrics)"
   ]
  },
  {
   "cell_type": "code",
   "execution_count": 26,
   "id": "7fc83819",
   "metadata": {},
   "outputs": [
    {
     "data": {
      "text/plain": [
       "[0.08743755785216295, 0.2142660166895554, 0.06490975100713173]"
      ]
     },
     "execution_count": 26,
     "metadata": {},
     "output_type": "execute_result"
    }
   ],
   "source": [
    "mape_arima"
   ]
  },
  {
   "cell_type": "code",
   "execution_count": null,
   "id": "3b4c4d90",
   "metadata": {},
   "outputs": [],
   "source": []
  },
  {
   "cell_type": "code",
   "execution_count": null,
   "id": "f9ece31b",
   "metadata": {},
   "outputs": [],
   "source": []
  },
  {
   "cell_type": "code",
   "execution_count": null,
   "id": "9e2b86c1",
   "metadata": {},
   "outputs": [],
   "source": []
  },
  {
   "cell_type": "code",
   "execution_count": 14,
   "id": "3c612ad9",
   "metadata": {},
   "outputs": [],
   "source": [
    "model = SARIMAX(train, order=(2, 1, 0), seasonal_order=(0, 1, 0, 252)).fit(disp=-1)"
   ]
  },
  {
   "cell_type": "code",
   "execution_count": 15,
   "id": "85826916",
   "metadata": {},
   "outputs": [],
   "source": [
    "preds = model.predict(start=train.shape[0]+1, end = train.shape[0]+test.shape[0])"
   ]
  },
  {
   "cell_type": "code",
   "execution_count": 16,
   "id": "84bcdcce",
   "metadata": {},
   "outputs": [],
   "source": [
    "preds = pd.DataFrame(preds)\n",
    "preds.index = test.index"
   ]
  },
  {
   "cell_type": "code",
   "execution_count": 17,
   "id": "05cca770",
   "metadata": {},
   "outputs": [
    {
     "data": {
      "text/plain": [
       "[<matplotlib.lines.Line2D at 0x7f96c84f4760>]"
      ]
     },
     "execution_count": 17,
     "metadata": {},
     "output_type": "execute_result"
    },
    {
     "data": {
      "image/png": "[encoded data removed]",
      "text/plain": [
       "<Figure size 432x288 with 1 Axes>"
      ]
     },
     "metadata": {
      "needs_background": "light"
     },
     "output_type": "display_data"
    }
   ],
   "source": [
    "plt.plot(preds, label = 'prediction')\n",
    "plt.plot(snp)"
   ]
  },
  {
   "cell_type": "code",
   "execution_count": 18,
   "id": "cfb54632",
   "metadata": {},
   "outputs": [
    {
     "name": "stdout",
     "output_type": "stream",
     "text": [
      "MSE: 2641.549\n",
      "MSLE: 0.018\n",
      "MAPE: 0.100\n"
     ]
    }
   ],
   "source": [
    "print(\"MSE: %.3f\" % mean_squared_error(test, preds))\n",
    "print(\"MSLE: %.3f\" % mean_squared_log_error(test, preds))\n",
    "print(\"MAPE: %.3f\" % mean_absolute_percentage_error(test, preds))"
   ]
  },
  {
   "cell_type": "code",
   "execution_count": null,
   "id": "97c48152",
   "metadata": {},
   "outputs": [],
   "source": []
  },
  {
   "cell_type": "code",
   "execution_count": null,
   "id": "5581a290",
   "metadata": {},
   "outputs": [],
   "source": []
  }
 ],
 "metadata": {
  "kernelspec": {
   "display_name": "Python 3 (ipykernel)",
   "language": "python",
   "name": "python3"
  },
  "language_info": {
   "codemirror_mode": {
    "name": "ipython",
    "version": 3
   },
   "file_extension": ".py",
   "mimetype": "text/x-python",
   "name": "python",
   "nbconvert_exporter": "python",
   "pygments_lexer": "ipython3",
   "version": "3.9.12"
  }
 },
 "nbformat": 4,
 "nbformat_minor": 5
}
