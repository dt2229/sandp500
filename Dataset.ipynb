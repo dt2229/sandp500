{
 "cells": [
  {
   "cell_type": "code",
   "execution_count": 5,
   "metadata": {
    "executionInfo": {
     "elapsed": 3,
     "status": "ok",
     "timestamp": 1668390320891,
     "user": {
      "displayName": "Shiya Yang",
      "userId": "18205257231646471684"
     },
     "user_tz": 300
    },
    "id": "5JQESd7Sxzp9"
   },
   "outputs": [],
   "source": [
    "## Standard imports\n",
    "import os\n",
    "\n",
    "import pandas as pd\n",
    "import numpy as np\n",
    "import matplotlib.pyplot as plt\n",
    "%matplotlib inline\n",
    "import seaborn as sns\n",
    "sns.set_style('white')\n",
    "\n",
    "import statsmodels.api as sm\n",
    "import statsmodels.tsa.stattools as ts"
   ]
  },
  {
   "cell_type": "code",
   "execution_count": 2,
   "metadata": {
    "colab": {
     "base_uri": "https://localhost:8080/"
    },
    "executionInfo": {
     "elapsed": 16088,
     "status": "ok",
     "timestamp": 1668389888220,
     "user": {
      "displayName": "Shiya Yang",
      "userId": "18205257231646471684"
     },
     "user_tz": 300
    },
    "id": "6S6Toe0cyCfS",
    "outputId": "48370045-25de-48e0-b98a-b3d8105a2b78"
   },
   "outputs": [
    {
     "name": "stdout",
     "output_type": "stream",
     "text": [
      "Mounted at /content/drive\n"
     ]
    }
   ],
   "source": [
    "from google.colab import drive\n",
    "drive.mount('/content/drive')"
   ]
  },
  {
   "cell_type": "code",
   "execution_count": 7,
   "metadata": {
    "colab": {
     "base_uri": "https://localhost:8080/"
    },
    "executionInfo": {
     "elapsed": 226,
     "status": "ok",
     "timestamp": 1668390425994,
     "user": {
      "displayName": "Shiya Yang",
      "userId": "18205257231646471684"
     },
     "user_tz": 300
    },
    "id": "EDQxIozeyGUe",
    "outputId": "84935c8b-6194-40f3-f5af-020d074da29d"
   },
   "outputs": [
    {
     "name": "stdout",
     "output_type": "stream",
     "text": [
      "/content/drive/MyDrive/DSGA1018 Project\n"
     ]
    }
   ],
   "source": [
    "%cd /content/drive/MyDrive/DSGA1018 Project"
   ]
  },
  {
   "cell_type": "markdown",
   "metadata": {
    "id": "nAL8EtW6yaqO"
   },
   "source": [
    "S&P 500"
   ]
  },
  {
   "cell_type": "code",
   "execution_count": 42,
   "metadata": {
    "executionInfo": {
     "elapsed": 1,
     "status": "ok",
     "timestamp": 1668390974851,
     "user": {
      "displayName": "Shiya Yang",
      "userId": "18205257231646471684"
     },
     "user_tz": 300
    },
    "id": "F7h6VkE0yNxG"
   },
   "outputs": [],
   "source": [
    "DATA_DIR=\"/content/drive/MyDrive/DSGA1018 Project/Data\"\n",
    "File_PATH = os.path.join(DATA_DIR, \"SP500.csv\")\n",
    "\n",
    "sp500 = pd.read_csv(File_PATH)"
   ]
  },
  {
   "cell_type": "code",
   "execution_count": 43,
   "metadata": {
    "executionInfo": {
     "elapsed": 224,
     "status": "ok",
     "timestamp": 1668390975723,
     "user": {
      "displayName": "Shiya Yang",
      "userId": "18205257231646471684"
     },
     "user_tz": 300
    },
    "id": "w8LK4ee2z5kE"
   },
   "outputs": [],
   "source": [
    "sp500 = sp500[::-1]\n",
    "sp500.reset_index(drop=True, inplace=True)\n",
    "sp500.columns = ['Date', 'Open', 'High', 'Low', 'Close']\n",
    "sp500['Date'] = pd.to_datetime(sp500['Date'])"
   ]
  },
  {
   "cell_type": "code",
   "execution_count": 44,
   "metadata": {
    "executionInfo": {
     "elapsed": 4,
     "status": "ok",
     "timestamp": 1668390975724,
     "user": {
      "displayName": "Shiya Yang",
      "userId": "18205257231646471684"
     },
     "user_tz": 300
    },
    "id": "hnqJxRv80bXl"
   },
   "outputs": [],
   "source": [
    "sp500['ret'] = sp500['Close'].pct_change()\n",
    "sp500.dropna(inplace=True)"
   ]
  },
  {
   "cell_type": "code",
   "execution_count": 46,
   "metadata": {
    "colab": {
     "base_uri": "https://localhost:8080/",
     "height": 265
    },
    "executionInfo": {
     "elapsed": 459,
     "status": "ok",
     "timestamp": 1668390976383,
     "user": {
      "displayName": "Shiya Yang",
      "userId": "18205257231646471684"
     },
     "user_tz": 300
    },
    "id": "Fmg927eD0pTo",
    "outputId": "2a3231c3-0c8b-4caa-9fd0-83df6145c851"
   },
   "outputs": [
    {
     "data": {
      "image/png": "[encoded data removed]",
      "text/plain": [
       "<Figure size 432x288 with 1 Axes>"
      ]
     },
     "metadata": {},
     "output_type": "display_data"
    }
   ],
   "source": [
    "sp500['ret'].plot();"
   ]
  },
  {
   "cell_type": "code",
   "execution_count": 47,
   "metadata": {
    "colab": {
     "base_uri": "https://localhost:8080/"
    },
    "executionInfo": {
     "elapsed": 6,
     "status": "ok",
     "timestamp": 1668390976384,
     "user": {
      "displayName": "Shiya Yang",
      "userId": "18205257231646471684"
     },
     "user_tz": 300
    },
    "id": "CcRwhBIc1ad0",
    "outputId": "491ff6a8-2aa4-464f-f336-8b0a4be5a365"
   },
   "outputs": [
    {
     "name": "stdout",
     "output_type": "stream",
     "text": [
      "ADF Statistic: -10.842435\n",
      "p-value: 0.000000\n",
      "Critical Values: {'1%': -3.4327860097199814, '5%': -2.862616249081039, '10%': -2.5673429234848517}\n"
     ]
    }
   ],
   "source": [
    "result = ts.adfuller(sp500['ret'])\n",
    "print('ADF Statistic: %f' % result[0])\n",
    "print('p-value: %f' % result[1])\n",
    "print('Critical Values:', result[4])"
   ]
  },
  {
   "cell_type": "markdown",
   "metadata": {
    "id": "KbAWBZks1vaH"
   },
   "source": [
    "Reject null hypothesis which is there is a unit root. The data is stationary."
   ]
  },
  {
   "cell_type": "markdown",
   "metadata": {
    "id": "Ct0fb3Cg2gsh"
   },
   "source": [
    "Individual stocks"
   ]
  },
  {
   "cell_type": "code",
   "execution_count": 88,
   "metadata": {
    "executionInfo": {
     "elapsed": 226,
     "status": "ok",
     "timestamp": 1668392212235,
     "user": {
      "displayName": "Shiya Yang",
      "userId": "18205257231646471684"
     },
     "user_tz": 300
    },
    "id": "ZbTgYE5i1s6r"
   },
   "outputs": [],
   "source": [
    "\n",
    "def stockPreprocess(name):\n",
    "    File_PATH = os.path.join(DATA_DIR, name + \".csv\")\n",
    "\n",
    "    print(\"------------\")\n",
    "    print(name)\n",
    "    stock = pd.read_csv(File_PATH)\n",
    "    stock['Date'] = pd.to_datetime(stock['Date'])\n",
    "\n",
    "    stock['Adj_Close'] = stock['Close'] + stock['Dividends'].cumsum()\n",
    "\n",
    "    stock['ret'] = stock['Adj_Close'].pct_change()\n",
    "    stock.dropna(inplace=True)\n",
    "    stock['ret'].plot()\n",
    "    plt.title(name)\n",
    "    plt.show();\n",
    "\n",
    "    result = ts.adfuller(stock['ret'])\n",
    "    print('ADF Statistic: %f' % result[0])\n",
    "    print('p-value: %f' % result[1])\n",
    "    print('Critical Values:', result[4])\n",
    "\n",
    "    if result[1] > 1e-05:\n",
    "        print(\"Not stationary\")\n",
    "    else:\n",
    "        print('Stationary')\n",
    "\n",
    "    return stock"
   ]
  },
  {
   "cell_type": "code",
   "execution_count": 89,
   "metadata": {
    "colab": {
     "base_uri": "https://localhost:8080/",
     "height": 1000
    },
    "executionInfo": {
     "elapsed": 4071,
     "status": "ok",
     "timestamp": 1668392216302,
     "user": {
      "displayName": "Shiya Yang",
      "userId": "18205257231646471684"
     },
     "user_tz": 300
    },
    "id": "C8CoToQu3F7M",
    "outputId": "0e16342e-41df-46ca-97cb-f75df69c7b2c"
   },
   "outputs": [
    {
     "name": "stdout",
     "output_type": "stream",
     "text": [
      "------------\n",
      "AAL\n"
     ]
    },
    {
     "data": {
      "image/png": "[encoded data removed]",
      "text/plain": [
       "<Figure size 432x288 with 1 Axes>"
      ]
     },
     "metadata": {},
     "output_type": "display_data"
    },
    {
     "name": "stdout",
     "output_type": "stream",
     "text": [
      "ADF Statistic: -14.001033\n",
      "p-value: 0.000000\n",
      "Critical Values: {'1%': -3.4327751686716304, '5%': -2.8626114613655744, '10%': -2.5673403744927143}\n",
      "Stationary\n",
      "------------\n",
      "AMZN\n"
     ]
    },
    {
     "data": {
      "image/png": "[encoded data removed]",
      "text/plain": [
       "<Figure size 432x288 with 1 Axes>"
      ]
     },
     "metadata": {},
     "output_type": "display_data"
    },
    {
     "name": "stdout",
     "output_type": "stream",
     "text": [
      "ADF Statistic: -14.960377\n",
      "p-value: 0.000000\n",
      "Critical Values: {'1%': -3.432776068405479, '5%': -2.862611858714308, '10%': -2.5673405860421004}\n",
      "Stationary\n",
      "------------\n",
      "DB\n"
     ]
    },
    {
     "data": {
      "image/png": "[encoded data removed]",
      "text/plain": [
       "<Figure size 432x288 with 1 Axes>"
      ]
     },
     "metadata": {},
     "output_type": "display_data"
    },
    {
     "name": "stdout",
     "output_type": "stream",
     "text": [
      "ADF Statistic: -34.641991\n",
      "p-value: 0.000000\n",
      "Critical Values: {'1%': -3.432764423688327, '5%': -2.8626067160580204, '10%': -2.567337848081528}\n",
      "Stationary\n",
      "------------\n",
      "PFE\n"
     ]
    },
    {
     "data": {
      "image/png": "[encoded data removed]",
      "text/plain": [
       "<Figure size 432x288 with 1 Axes>"
      ]
     },
     "metadata": {},
     "output_type": "display_data"
    },
    {
     "name": "stdout",
     "output_type": "stream",
     "text": [
      "ADF Statistic: -11.720942\n",
      "p-value: 0.000000\n",
      "Critical Values: {'1%': -3.432780577107336, '5%': -2.8626138498868667, '10%': -2.567341646147285}\n",
      "Stationary\n",
      "------------\n",
      "WMT\n"
     ]
    },
    {
     "data": {
      "image/png": "[encoded data removed]",
      "text/plain": [
       "<Figure size 432x288 with 1 Axes>"
      ]
     },
     "metadata": {},
     "output_type": "display_data"
    },
    {
     "name": "stdout",
     "output_type": "stream",
     "text": [
      "ADF Statistic: -17.975278\n",
      "p-value: 0.000000\n",
      "Critical Values: {'1%': -3.43277067999415, '5%': -2.862609479032774, '10%': -2.567339319094438}\n",
      "Stationary\n"
     ]
    }
   ],
   "source": [
    "names = ['AAL', 'AMZN', 'DB', 'PFE', 'WMT']\n",
    "for name in names:\n",
    "    stock = stockPreprocess(name)"
   ]
  },
  {
   "cell_type": "markdown",
   "metadata": {
    "id": "auyp-QZ24oM0"
   },
   "source": [
    "## Download form yahoo finance"
   ]
  },
  {
   "cell_type": "code",
   "execution_count": 1,
   "metadata": {},
   "outputs": [],
   "source": [
    "import yfinance as yf"
   ]
  },
  {
   "cell_type": "code",
   "execution_count": 13,
   "metadata": {},
   "outputs": [],
   "source": [
    "#SPY = SP500\n",
    "tickers = ['SPY', 'AAL', 'AMZN', 'PFE', 'DB', 'WMT']"
   ]
  },
  {
   "cell_type": "code",
   "execution_count": 8,
   "metadata": {},
   "outputs": [
    {
     "name": "stdout",
     "output_type": "stream",
     "text": [
      "[*********************100%***********************]  1 of 1 completed\n"
     ]
    }
   ],
   "source": [
    "amzn_df = yf.download(tickers[0])"
   ]
  },
  {
   "cell_type": "code",
   "execution_count": 9,
   "metadata": {},
   "outputs": [],
   "source": [
    "amzn_df = amzn_df['2012-01-04':'2022-10-14']"
   ]
  },
  {
   "cell_type": "code",
   "execution_count": 10,
   "metadata": {},
   "outputs": [
    {
     "data": {
      "text/html": [
       "<div>\n",
       "<style scoped>\n",
       "    .dataframe tbody tr th:only-of-type {\n",
       "        vertical-align: middle;\n",
       "    }\n",
       "\n",
       "    .dataframe tbody tr th {\n",
       "        vertical-align: top;\n",
       "    }\n",
       "\n",
       "    .dataframe thead th {\n",
       "        text-align: right;\n",
       "    }\n",
       "</style>\n",
       "<table border=\"1\" class=\"dataframe\">\n",
       "  <thead>\n",
       "    <tr style=\"text-align: right;\">\n",
       "      <th></th>\n",
       "      <th>Open</th>\n",
       "      <th>High</th>\n",
       "      <th>Low</th>\n",
       "      <th>Close</th>\n",
       "      <th>Adj Close</th>\n",
       "      <th>Volume</th>\n",
       "    </tr>\n",
       "    <tr>\n",
       "      <th>Date</th>\n",
       "      <th></th>\n",
       "      <th></th>\n",
       "      <th></th>\n",
       "      <th></th>\n",
       "      <th></th>\n",
       "      <th></th>\n",
       "    </tr>\n",
       "  </thead>\n",
       "  <tbody>\n",
       "    <tr>\n",
       "      <th>2012-01-04</th>\n",
       "      <td>5.09</td>\n",
       "      <td>5.18</td>\n",
       "      <td>4.97</td>\n",
       "      <td>5.03</td>\n",
       "      <td>4.741989</td>\n",
       "      <td>5268700</td>\n",
       "    </tr>\n",
       "    <tr>\n",
       "      <th>2012-01-05</th>\n",
       "      <td>5.15</td>\n",
       "      <td>5.48</td>\n",
       "      <td>5.07</td>\n",
       "      <td>5.47</td>\n",
       "      <td>5.156796</td>\n",
       "      <td>8216100</td>\n",
       "    </tr>\n",
       "    <tr>\n",
       "      <th>2012-01-06</th>\n",
       "      <td>5.44</td>\n",
       "      <td>5.67</td>\n",
       "      <td>5.40</td>\n",
       "      <td>5.60</td>\n",
       "      <td>5.279352</td>\n",
       "      <td>8323000</td>\n",
       "    </tr>\n",
       "    <tr>\n",
       "      <th>2012-01-09</th>\n",
       "      <td>5.56</td>\n",
       "      <td>5.80</td>\n",
       "      <td>5.55</td>\n",
       "      <td>5.72</td>\n",
       "      <td>5.392481</td>\n",
       "      <td>8029900</td>\n",
       "    </tr>\n",
       "    <tr>\n",
       "      <th>2012-01-10</th>\n",
       "      <td>5.81</td>\n",
       "      <td>5.81</td>\n",
       "      <td>5.61</td>\n",
       "      <td>5.72</td>\n",
       "      <td>5.392481</td>\n",
       "      <td>6086500</td>\n",
       "    </tr>\n",
       "    <tr>\n",
       "      <th>...</th>\n",
       "      <td>...</td>\n",
       "      <td>...</td>\n",
       "      <td>...</td>\n",
       "      <td>...</td>\n",
       "      <td>...</td>\n",
       "      <td>...</td>\n",
       "    </tr>\n",
       "    <tr>\n",
       "      <th>2022-10-10</th>\n",
       "      <td>12.20</td>\n",
       "      <td>12.32</td>\n",
       "      <td>11.86</td>\n",
       "      <td>12.05</td>\n",
       "      <td>12.050000</td>\n",
       "      <td>29602600</td>\n",
       "    </tr>\n",
       "    <tr>\n",
       "      <th>2022-10-11</th>\n",
       "      <td>12.74</td>\n",
       "      <td>12.86</td>\n",
       "      <td>11.79</td>\n",
       "      <td>12.26</td>\n",
       "      <td>12.260000</td>\n",
       "      <td>64438100</td>\n",
       "    </tr>\n",
       "    <tr>\n",
       "      <th>2022-10-12</th>\n",
       "      <td>12.21</td>\n",
       "      <td>12.83</td>\n",
       "      <td>11.98</td>\n",
       "      <td>12.70</td>\n",
       "      <td>12.700000</td>\n",
       "      <td>40359200</td>\n",
       "    </tr>\n",
       "    <tr>\n",
       "      <th>2022-10-13</th>\n",
       "      <td>12.50</td>\n",
       "      <td>13.20</td>\n",
       "      <td>12.18</td>\n",
       "      <td>13.05</td>\n",
       "      <td>13.050000</td>\n",
       "      <td>53206100</td>\n",
       "    </tr>\n",
       "    <tr>\n",
       "      <th>2022-10-14</th>\n",
       "      <td>13.35</td>\n",
       "      <td>13.58</td>\n",
       "      <td>12.96</td>\n",
       "      <td>13.11</td>\n",
       "      <td>13.110000</td>\n",
       "      <td>34831700</td>\n",
       "    </tr>\n",
       "  </tbody>\n",
       "</table>\n",
       "<p>2714 rows × 6 columns</p>\n",
       "</div>"
      ],
      "text/plain": [
       "             Open   High    Low  Close  Adj Close    Volume\n",
       "Date                                                       \n",
       "2012-01-04   5.09   5.18   4.97   5.03   4.741989   5268700\n",
       "2012-01-05   5.15   5.48   5.07   5.47   5.156796   8216100\n",
       "2012-01-06   5.44   5.67   5.40   5.60   5.279352   8323000\n",
       "2012-01-09   5.56   5.80   5.55   5.72   5.392481   8029900\n",
       "2012-01-10   5.81   5.81   5.61   5.72   5.392481   6086500\n",
       "...           ...    ...    ...    ...        ...       ...\n",
       "2022-10-10  12.20  12.32  11.86  12.05  12.050000  29602600\n",
       "2022-10-11  12.74  12.86  11.79  12.26  12.260000  64438100\n",
       "2022-10-12  12.21  12.83  11.98  12.70  12.700000  40359200\n",
       "2022-10-13  12.50  13.20  12.18  13.05  13.050000  53206100\n",
       "2022-10-14  13.35  13.58  12.96  13.11  13.110000  34831700\n",
       "\n",
       "[2714 rows x 6 columns]"
      ]
     },
     "execution_count": 10,
     "metadata": {},
     "output_type": "execute_result"
    }
   ],
   "source": [
    "amzn_df"
   ]
  },
  {
   "cell_type": "code",
   "execution_count": 11,
   "metadata": {},
   "outputs": [
    {
     "name": "stdout",
     "output_type": "stream",
     "text": [
      "[*********************100%***********************]  1 of 1 completed\n"
     ]
    }
   ],
   "source": [
    "sp500 = yf.download('SPY')"
   ]
  },
  {
   "cell_type": "code",
   "execution_count": 12,
   "metadata": {},
   "outputs": [
    {
     "data": {
      "text/html": [
       "<div>\n",
       "<style scoped>\n",
       "    .dataframe tbody tr th:only-of-type {\n",
       "        vertical-align: middle;\n",
       "    }\n",
       "\n",
       "    .dataframe tbody tr th {\n",
       "        vertical-align: top;\n",
       "    }\n",
       "\n",
       "    .dataframe thead th {\n",
       "        text-align: right;\n",
       "    }\n",
       "</style>\n",
       "<table border=\"1\" class=\"dataframe\">\n",
       "  <thead>\n",
       "    <tr style=\"text-align: right;\">\n",
       "      <th></th>\n",
       "      <th>Open</th>\n",
       "      <th>High</th>\n",
       "      <th>Low</th>\n",
       "      <th>Close</th>\n",
       "      <th>Adj Close</th>\n",
       "      <th>Volume</th>\n",
       "    </tr>\n",
       "    <tr>\n",
       "      <th>Date</th>\n",
       "      <th></th>\n",
       "      <th></th>\n",
       "      <th></th>\n",
       "      <th></th>\n",
       "      <th></th>\n",
       "      <th></th>\n",
       "    </tr>\n",
       "  </thead>\n",
       "  <tbody>\n",
       "    <tr>\n",
       "      <th>1993-01-29</th>\n",
       "      <td>43.968750</td>\n",
       "      <td>43.968750</td>\n",
       "      <td>43.750000</td>\n",
       "      <td>43.937500</td>\n",
       "      <td>25.334028</td>\n",
       "      <td>1003200</td>\n",
       "    </tr>\n",
       "    <tr>\n",
       "      <th>1993-02-01</th>\n",
       "      <td>43.968750</td>\n",
       "      <td>44.250000</td>\n",
       "      <td>43.968750</td>\n",
       "      <td>44.250000</td>\n",
       "      <td>25.514204</td>\n",
       "      <td>480500</td>\n",
       "    </tr>\n",
       "    <tr>\n",
       "      <th>1993-02-02</th>\n",
       "      <td>44.218750</td>\n",
       "      <td>44.375000</td>\n",
       "      <td>44.125000</td>\n",
       "      <td>44.343750</td>\n",
       "      <td>25.568270</td>\n",
       "      <td>201300</td>\n",
       "    </tr>\n",
       "    <tr>\n",
       "      <th>1993-02-03</th>\n",
       "      <td>44.406250</td>\n",
       "      <td>44.843750</td>\n",
       "      <td>44.375000</td>\n",
       "      <td>44.812500</td>\n",
       "      <td>25.838556</td>\n",
       "      <td>529400</td>\n",
       "    </tr>\n",
       "    <tr>\n",
       "      <th>1993-02-04</th>\n",
       "      <td>44.968750</td>\n",
       "      <td>45.093750</td>\n",
       "      <td>44.468750</td>\n",
       "      <td>45.000000</td>\n",
       "      <td>25.946669</td>\n",
       "      <td>531500</td>\n",
       "    </tr>\n",
       "    <tr>\n",
       "      <th>...</th>\n",
       "      <td>...</td>\n",
       "      <td>...</td>\n",
       "      <td>...</td>\n",
       "      <td>...</td>\n",
       "      <td>...</td>\n",
       "      <td>...</td>\n",
       "    </tr>\n",
       "    <tr>\n",
       "      <th>2022-11-16</th>\n",
       "      <td>396.779999</td>\n",
       "      <td>397.779999</td>\n",
       "      <td>394.790009</td>\n",
       "      <td>395.450012</td>\n",
       "      <td>395.450012</td>\n",
       "      <td>68508500</td>\n",
       "    </tr>\n",
       "    <tr>\n",
       "      <th>2022-11-17</th>\n",
       "      <td>390.459991</td>\n",
       "      <td>394.950012</td>\n",
       "      <td>390.140015</td>\n",
       "      <td>394.239990</td>\n",
       "      <td>394.239990</td>\n",
       "      <td>74496300</td>\n",
       "    </tr>\n",
       "    <tr>\n",
       "      <th>2022-11-18</th>\n",
       "      <td>397.739990</td>\n",
       "      <td>397.809998</td>\n",
       "      <td>393.040009</td>\n",
       "      <td>396.029999</td>\n",
       "      <td>396.029999</td>\n",
       "      <td>92783500</td>\n",
       "    </tr>\n",
       "    <tr>\n",
       "      <th>2022-11-21</th>\n",
       "      <td>394.640015</td>\n",
       "      <td>395.820007</td>\n",
       "      <td>392.660004</td>\n",
       "      <td>394.589996</td>\n",
       "      <td>394.589996</td>\n",
       "      <td>51243200</td>\n",
       "    </tr>\n",
       "    <tr>\n",
       "      <th>2022-11-22</th>\n",
       "      <td>396.630005</td>\n",
       "      <td>399.670013</td>\n",
       "      <td>395.160004</td>\n",
       "      <td>399.570007</td>\n",
       "      <td>399.570007</td>\n",
       "      <td>38767861</td>\n",
       "    </tr>\n",
       "  </tbody>\n",
       "</table>\n",
       "<p>7510 rows × 6 columns</p>\n",
       "</div>"
      ],
      "text/plain": [
       "                  Open        High         Low       Close   Adj Close  \\\n",
       "Date                                                                     \n",
       "1993-01-29   43.968750   43.968750   43.750000   43.937500   25.334028   \n",
       "1993-02-01   43.968750   44.250000   43.968750   44.250000   25.514204   \n",
       "1993-02-02   44.218750   44.375000   44.125000   44.343750   25.568270   \n",
       "1993-02-03   44.406250   44.843750   44.375000   44.812500   25.838556   \n",
       "1993-02-04   44.968750   45.093750   44.468750   45.000000   25.946669   \n",
       "...                ...         ...         ...         ...         ...   \n",
       "2022-11-16  396.779999  397.779999  394.790009  395.450012  395.450012   \n",
       "2022-11-17  390.459991  394.950012  390.140015  394.239990  394.239990   \n",
       "2022-11-18  397.739990  397.809998  393.040009  396.029999  396.029999   \n",
       "2022-11-21  394.640015  395.820007  392.660004  394.589996  394.589996   \n",
       "2022-11-22  396.630005  399.670013  395.160004  399.570007  399.570007   \n",
       "\n",
       "              Volume  \n",
       "Date                  \n",
       "1993-01-29   1003200  \n",
       "1993-02-01    480500  \n",
       "1993-02-02    201300  \n",
       "1993-02-03    529400  \n",
       "1993-02-04    531500  \n",
       "...              ...  \n",
       "2022-11-16  68508500  \n",
       "2022-11-17  74496300  \n",
       "2022-11-18  92783500  \n",
       "2022-11-21  51243200  \n",
       "2022-11-22  38767861  \n",
       "\n",
       "[7510 rows x 6 columns]"
      ]
     },
     "execution_count": 12,
     "metadata": {},
     "output_type": "execute_result"
    }
   ],
   "source": [
    "sp500"
   ]
  },
  {
   "cell_type": "code",
   "execution_count": null,
   "metadata": {},
   "outputs": [],
   "source": []
  }
 ],
 "metadata": {
  "colab": {
   "authorship_tag": "ABX9TyPXulqSwDHVVIPPY5NMOw5y",
   "collapsed_sections": [],
   "provenance": []
  },
  "kernelspec": {
   "display_name": "Python 3 (ipykernel)",
   "language": "python",
   "name": "python3"
  },
  "language_info": {
   "codemirror_mode": {
    "name": "ipython",
    "version": 3
   },
   "file_extension": ".py",
   "mimetype": "text/x-python",
   "name": "python",
   "nbconvert_exporter": "python",
   "pygments_lexer": "ipython3",
   "version": "3.9.12"
  }
 },
 "nbformat": 4,
 "nbformat_minor": 4
}
