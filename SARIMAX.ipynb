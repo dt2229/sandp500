{
  "nbformat": 4,
  "nbformat_minor": 0,
  "metadata": {
    "colab": {
      "provenance": [],
      "machine_shape": "hm"
    },
    "kernelspec": {
      "name": "python3",
      "display_name": "Python 3"
    },
    "language_info": {
      "name": "python"
    },
    "gpuClass": "standard"
  },
  "cells": [
    {
      "cell_type": "code",
      "execution_count": 1,
      "metadata": {
        "colab": {
          "base_uri": "https://localhost:8080/"
        },
        "id": "HbYG1uVrkOKh",
        "outputId": "d45a433e-b8f4-481f-acc1-42b4a0e90d9c"
      },
      "outputs": [
        {
          "output_type": "stream",
          "name": "stdout",
          "text": [
            "Looking in indexes: https://pypi.org/simple, https://us-python.pkg.dev/colab-wheels/public/simple/\n",
            "Requirement already satisfied: yfinance in /usr/local/lib/python3.8/dist-packages (0.1.87)\n",
            "Requirement already satisfied: lxml>=4.5.1 in /usr/local/lib/python3.8/dist-packages (from yfinance) (4.9.1)\n",
            "Requirement already satisfied: multitasking>=0.0.7 in /usr/local/lib/python3.8/dist-packages (from yfinance) (0.0.11)\n",
            "Requirement already satisfied: requests>=2.26 in /usr/local/lib/python3.8/dist-packages (from yfinance) (2.28.1)\n",
            "Requirement already satisfied: appdirs>=1.4.4 in /usr/local/lib/python3.8/dist-packages (from yfinance) (1.4.4)\n",
            "Requirement already satisfied: numpy>=1.15 in /usr/local/lib/python3.8/dist-packages (from yfinance) (1.21.6)\n",
            "Requirement already satisfied: pandas>=0.24.0 in /usr/local/lib/python3.8/dist-packages (from yfinance) (1.3.5)\n",
            "Requirement already satisfied: pytz>=2017.3 in /usr/local/lib/python3.8/dist-packages (from pandas>=0.24.0->yfinance) (2022.6)\n",
            "Requirement already satisfied: python-dateutil>=2.7.3 in /usr/local/lib/python3.8/dist-packages (from pandas>=0.24.0->yfinance) (2.8.2)\n",
            "Requirement already satisfied: six>=1.5 in /usr/local/lib/python3.8/dist-packages (from python-dateutil>=2.7.3->pandas>=0.24.0->yfinance) (1.15.0)\n",
            "Requirement already satisfied: charset-normalizer<3,>=2 in /usr/local/lib/python3.8/dist-packages (from requests>=2.26->yfinance) (2.1.1)\n",
            "Requirement already satisfied: idna<4,>=2.5 in /usr/local/lib/python3.8/dist-packages (from requests>=2.26->yfinance) (2.10)\n",
            "Requirement already satisfied: urllib3<1.27,>=1.21.1 in /usr/local/lib/python3.8/dist-packages (from requests>=2.26->yfinance) (1.24.3)\n",
            "Requirement already satisfied: certifi>=2017.4.17 in /usr/local/lib/python3.8/dist-packages (from requests>=2.26->yfinance) (2022.9.24)\n",
            "Looking in indexes: https://pypi.org/simple, https://us-python.pkg.dev/colab-wheels/public/simple/\n",
            "Requirement already satisfied: pmdarima in /usr/local/lib/python3.8/dist-packages (2.0.2)\n",
            "Requirement already satisfied: Cython!=0.29.18,!=0.29.31,>=0.29 in /usr/local/lib/python3.8/dist-packages (from pmdarima) (0.29.32)\n",
            "Requirement already satisfied: pandas>=0.19 in /usr/local/lib/python3.8/dist-packages (from pmdarima) (1.3.5)\n",
            "Requirement already satisfied: scikit-learn>=0.22 in /usr/local/lib/python3.8/dist-packages (from pmdarima) (1.0.2)\n",
            "Requirement already satisfied: numpy>=1.21.2 in /usr/local/lib/python3.8/dist-packages (from pmdarima) (1.21.6)\n",
            "Requirement already satisfied: scipy>=1.3.2 in /usr/local/lib/python3.8/dist-packages (from pmdarima) (1.7.3)\n",
            "Requirement already satisfied: setuptools!=50.0.0,>=38.6.0 in /usr/local/lib/python3.8/dist-packages (from pmdarima) (57.4.0)\n",
            "Requirement already satisfied: urllib3 in /usr/local/lib/python3.8/dist-packages (from pmdarima) (1.24.3)\n",
            "Requirement already satisfied: statsmodels>=0.13.2 in /usr/local/lib/python3.8/dist-packages (from pmdarima) (0.13.5)\n",
            "Requirement already satisfied: joblib>=0.11 in /usr/local/lib/python3.8/dist-packages (from pmdarima) (1.2.0)\n",
            "Requirement already satisfied: pytz>=2017.3 in /usr/local/lib/python3.8/dist-packages (from pandas>=0.19->pmdarima) (2022.6)\n",
            "Requirement already satisfied: python-dateutil>=2.7.3 in /usr/local/lib/python3.8/dist-packages (from pandas>=0.19->pmdarima) (2.8.2)\n",
            "Requirement already satisfied: six>=1.5 in /usr/local/lib/python3.8/dist-packages (from python-dateutil>=2.7.3->pandas>=0.19->pmdarima) (1.15.0)\n",
            "Requirement already satisfied: threadpoolctl>=2.0.0 in /usr/local/lib/python3.8/dist-packages (from scikit-learn>=0.22->pmdarima) (3.1.0)\n",
            "Requirement already satisfied: packaging>=21.3 in /usr/local/lib/python3.8/dist-packages (from statsmodels>=0.13.2->pmdarima) (21.3)\n",
            "Requirement already satisfied: patsy>=0.5.2 in /usr/local/lib/python3.8/dist-packages (from statsmodels>=0.13.2->pmdarima) (0.5.3)\n",
            "Requirement already satisfied: pyparsing!=3.0.5,>=2.0.2 in /usr/local/lib/python3.8/dist-packages (from packaging>=21.3->statsmodels>=0.13.2->pmdarima) (3.0.9)\n"
          ]
        }
      ],
      "source": [
        "!pip install yfinance\n",
        "!pip install pmdarima"
      ]
    },
    {
      "cell_type": "code",
      "source": [
        "from pandas import read_csv\n",
        "from matplotlib import pyplot\n",
        "from statsmodels.graphics.tsaplots import plot_acf\n",
        "\n",
        "import yfinance as yf\n",
        "import pandas as pd\n",
        "import numpy as np\n",
        "import pmdarima as pm\n",
        "from pmdarima import model_selection\n",
        "from pmdarima.arima import auto_arima\n",
        "import matplotlib.pyplot as plt\n",
        "from matplotlib.pyplot import figure\n",
        "from sklearn.metrics import mean_squared_error, mean_squared_log_error, mean_absolute_percentage_error\n"
      ],
      "metadata": {
        "id": "igNPPp2UkYmV"
      },
      "execution_count": 2,
      "outputs": []
    },
    {
      "cell_type": "code",
      "source": [
        "#SPY = SP500\n",
        "tickers = ['SPY', 'AAL', 'AMZN', 'PFE', 'DB', 'WMT']\n",
        "start_date='2012-01-01'\n",
        "end_date='2022-10-14'\n",
        "snp = yf.download(tickers[0], start=start_date, end=end_date)\n",
        "american = yf.download(tickers[1], start=start_date, end=end_date)\n",
        "amazon = yf.download(tickers[2], start=start_date, end=end_date)\n",
        "pfizer = yf.download(tickers[3], start=start_date, end=end_date)\n",
        "d_bank = yf.download(tickers[4], start=start_date, end=end_date)\n",
        "walmart = yf.download(tickers[5], start=start_date, end=end_date)"
      ],
      "metadata": {
        "colab": {
          "base_uri": "https://localhost:8080/"
        },
        "id": "P5xV58uOkYox",
        "outputId": "7c112fdf-dfa1-4e9e-8e4b-86957d25d241"
      },
      "execution_count": 3,
      "outputs": [
        {
          "output_type": "stream",
          "name": "stdout",
          "text": [
            "[*********************100%***********************]  1 of 1 completed\n",
            "[*********************100%***********************]  1 of 1 completed\n",
            "[*********************100%***********************]  1 of 1 completed\n",
            "[*********************100%***********************]  1 of 1 completed\n",
            "[*********************100%***********************]  1 of 1 completed\n",
            "[*********************100%***********************]  1 of 1 completed\n"
          ]
        }
      ]
    },
    {
      "cell_type": "code",
      "source": [
        "snp = snp[[\"Adj Close\"]]\n",
        "snp.rename(columns={'Adj Close':'adj_close'}, inplace=True)\n",
        "american = american[[\"Adj Close\"]]\n",
        "american.rename(columns={'Adj Close':'adj_close'}, inplace=True)\n",
        "amazon = amazon[[\"Adj Close\"]]\n",
        "amazon.rename(columns={'Adj Close':'adj_close'}, inplace=True)\n",
        "pfizer = pfizer[[\"Adj Close\"]]\n",
        "pfizer.rename(columns={'Adj Close':'adj_close'}, inplace=True)\n",
        "d_bank = d_bank[[\"Adj Close\"]]\n",
        "d_bank.rename(columns={'Adj Close':'adj_close'}, inplace=True)\n",
        "walmart = walmart[[\"Adj Close\"]]\n",
        "walmart.rename(columns={'Adj Close':'adj_close'}, inplace=True)"
      ],
      "metadata": {
        "id": "Wb8DDdl-kYrV",
        "colab": {
          "base_uri": "https://localhost:8080/"
        },
        "outputId": "b79d41e4-ed13-4fcf-d2f9-ca0606a507f8"
      },
      "execution_count": 4,
      "outputs": [
        {
          "output_type": "stream",
          "name": "stderr",
          "text": [
            "/usr/local/lib/python3.8/dist-packages/pandas/core/frame.py:5039: SettingWithCopyWarning: \n",
            "A value is trying to be set on a copy of a slice from a DataFrame\n",
            "\n",
            "See the caveats in the documentation: https://pandas.pydata.org/pandas-docs/stable/user_guide/indexing.html#returning-a-view-versus-a-copy\n",
            "  return super().rename(\n"
          ]
        }
      ]
    },
    {
      "cell_type": "code",
      "source": [
        "from statsmodels.graphics.tsaplots import plot_pacf\n",
        "from statsmodels.graphics.tsaplots import plot_acf\n",
        "from statsmodels.tsa.statespace.sarimax import SARIMAX\n",
        "from statsmodels.tsa.arima.model import ARIMA\n",
        "from statsmodels.tsa.holtwinters import ExponentialSmoothing\n",
        "from statsmodels.tsa.stattools import adfuller\n",
        "import matplotlib.pyplot as plt\n",
        "from tqdm import tqdm_notebook\n",
        "import numpy as np\n",
        "import pandas as pd\n",
        "from itertools import product\n",
        "import warnings\n",
        "warnings.filterwarnings('ignore')"
      ],
      "metadata": {
        "id": "4T9HMpVpkYts"
      },
      "execution_count": 5,
      "outputs": []
    },
    {
      "cell_type": "markdown",
      "source": [
        "#S&P 500"
      ],
      "metadata": {
        "id": "3G2BE7QjG4ni"
      }
    },
    {
      "cell_type": "code",
      "source": [
        "plot_pacf(snp);\n",
        "plot_acf(snp);"
      ],
      "metadata": {
        "colab": {
          "base_uri": "https://localhost:8080/",
          "height": 545
        },
        "id": "IyxbB7CUkYwg",
        "outputId": "343d12bf-2323-4193-f97e-2956d132bf4b"
      },
      "execution_count": 6,
      "outputs": [
        {
          "output_type": "display_data",
          "data": {
            "text/plain": [
              "<Figure size 432x288 with 1 Axes>"
            ],
            "image/png": "[encoded data removed]"
          },
          "metadata": {
            "needs_background": "light"
          }
        },
        {
          "output_type": "display_data",
          "data": {
            "text/plain": [
              "<Figure size 432x288 with 1 Axes>"
            ],
            "image/png": "[encoded data removed]"
          },
          "metadata": {
            "needs_background": "light"
          }
        }
      ]
    },
    {
      "cell_type": "code",
      "source": [
        "ad_fuller_result = adfuller(snp.diff().dropna())\n",
        "print(f'ADF Statistic: {ad_fuller_result[0]}')\n",
        "print(f'p-value: {ad_fuller_result[1]}')"
      ],
      "metadata": {
        "colab": {
          "base_uri": "https://localhost:8080/"
        },
        "id": "Rx7i4Aa2kYy9",
        "outputId": "c6f3059b-4640-4d15-e80d-18390357e098"
      },
      "execution_count": 7,
      "outputs": [
        {
          "output_type": "stream",
          "name": "stdout",
          "text": [
            "ADF Statistic: -10.651969064248096\n",
            "p-value: 4.636349784764028e-19\n"
          ]
        }
      ]
    },
    {
      "cell_type": "code",
      "source": [
        "train = snp.iloc[:int(snp.shape[0]*0.8)]\n",
        "test = snp.iloc[int(snp.shape[0]*0.8):]"
      ],
      "metadata": {
        "id": "r7rrXX6ZkY09"
      },
      "execution_count": 8,
      "outputs": []
    },
    {
      "cell_type": "code",
      "source": [
        "from sklearn.model_selection import TimeSeriesSplit"
      ],
      "metadata": {
        "id": "NxVJNdHwkpVu"
      },
      "execution_count": 9,
      "outputs": []
    },
    {
      "cell_type": "code",
      "source": [
        "mape = []\n",
        "tscv = TimeSeriesSplit(max_train_size = None, n_splits = 3)\n",
        "for train_index, valid_index in tscv.split(train):\n",
        "    train_value, valid_value = train.iloc[train_index, :], train.iloc[valid_index, :]\n",
        "    model = SARIMAX(train_value, order=(2, 1, 0), seasonal_order=(0, 1, 0, 252)).fit(disp=-1)\n",
        "    # Fit the model \n",
        "    preds = model.predict(start=train_value.shape[0]+1, end = train_value.shape[0]+valid_value.shape[0])\n",
        "    mape.append(mean_absolute_percentage_error(preds, valid_value))"
      ],
      "metadata": {
        "id": "lWgxb0b4kpYI"
      },
      "execution_count": null,
      "outputs": []
    },
    {
      "cell_type": "code",
      "source": [
        "mape"
      ],
      "metadata": {
        "id": "Szw7JgJIkpar"
      },
      "execution_count": null,
      "outputs": []
    },
    {
      "cell_type": "code",
      "source": [
        "model = SARIMAX(train, order=(2, 1, 0), seasonal_order=(0, 1, 0, 252)).fit(disp=-1)"
      ],
      "metadata": {
        "id": "Euwmo83HkpdU"
      },
      "execution_count": null,
      "outputs": []
    },
    {
      "cell_type": "code",
      "source": [
        "preds, conf_int = model.predict(start=train.shape[0]+1, end = train.shape[0]+test.shape[0], return_conf_int=True)"
      ],
      "metadata": {
        "id": "w603SVt1kpfy"
      },
      "execution_count": null,
      "outputs": []
    },
    {
      "cell_type": "code",
      "source": [
        "preds = pd.DataFrame(preds)\n",
        "preds.index = test.index"
      ],
      "metadata": {
        "id": "m2NSlU3bm2df"
      },
      "execution_count": null,
      "outputs": []
    },
    {
      "cell_type": "code",
      "source": [
        "plt.plot(preds, label = 'Prediction')\n",
        "plt.plot(snp, label = 'Train')\n",
        "plt.plot(test, label = 'Actual')\n",
        "plt.fill_between(test.index, conf_int[:, 0], conf_int[:, 1],\n",
        "                 alpha=0.1, color='b')\n",
        "\n",
        "plt.title(\"S&P 500 Forecast\")\n",
        "plt.xlabel(\"Year\")\n",
        "plt.ylabel(\"Adjusted Close\")\n",
        "plt.legend(loc='upper left')"
      ],
      "metadata": {
        "id": "B4q_lLTfm2gG"
      },
      "execution_count": null,
      "outputs": []
    },
    {
      "cell_type": "code",
      "source": [
        "print(\"MSE: %.3f\" % mean_squared_error(test, preds))\n",
        "print(\"MSLE: %.3f\" % mean_squared_log_error(test, preds))\n",
        "print(\"MAPE: %.3f\" % mean_absolute_percentage_error(test, preds))"
      ],
      "metadata": {
        "id": "LZ9wZ20qm2jB"
      },
      "execution_count": null,
      "outputs": []
    },
    {
      "cell_type": "markdown",
      "source": [
        "#AAL"
      ],
      "metadata": {
        "id": "_9jaArhrG-YK"
      }
    },
    {
      "cell_type": "code",
      "source": [
        "plot_pacf(american);\n",
        "plot_acf(american);"
      ],
      "metadata": {
        "id": "tK5ZROSGoEpe",
        "colab": {
          "base_uri": "https://localhost:8080/",
          "height": 545
        },
        "outputId": "07fba0b7-3f15-45a7-bc74-c0077c2c1bba"
      },
      "execution_count": 11,
      "outputs": [
        {
          "output_type": "display_data",
          "data": {
            "text/plain": [
              "<Figure size 432x288 with 1 Axes>"
            ],
            "image/png": "[encoded data removed]"
          },
          "metadata": {
            "needs_background": "light"
          }
        },
        {
          "output_type": "display_data",
          "data": {
            "text/plain": [
              "<Figure size 432x288 with 1 Axes>"
            ],
            "image/png": "[encoded data removed]"
          },
          "metadata": {
            "needs_background": "light"
          }
        }
      ]
    },
    {
      "cell_type": "code",
      "source": [
        "ad_fuller_result = adfuller(american.diff().dropna())\n",
        "print(f'ADF Statistic: {ad_fuller_result[0]}')\n",
        "print(f'p-value: {ad_fuller_result[1]}')"
      ],
      "metadata": {
        "colab": {
          "base_uri": "https://localhost:8080/"
        },
        "id": "3pamMVOPHJGz",
        "outputId": "3464403b-9eba-47ff-cd80-b55432a44e27"
      },
      "execution_count": 12,
      "outputs": [
        {
          "output_type": "stream",
          "name": "stdout",
          "text": [
            "ADF Statistic: -48.83887977556137\n",
            "p-value: 0.0\n"
          ]
        }
      ]
    },
    {
      "cell_type": "code",
      "source": [
        "train = american.iloc[:int(american.shape[0]*0.8)]\n",
        "test = american.iloc[int(american.shape[0]*0.8):]"
      ],
      "metadata": {
        "id": "l8S9LWWqHJJa"
      },
      "execution_count": 13,
      "outputs": []
    },
    {
      "cell_type": "code",
      "source": [
        "mape = []\n",
        "tscv = TimeSeriesSplit(max_train_size = None, n_splits = 3)\n",
        "for train_index, valid_index in tscv.split(train):\n",
        "    train_value, valid_value = train.iloc[train_index, :], train.iloc[valid_index, :]\n",
        "    model = SARIMAX(train_value, order=(2, 1, 0), seasonal_order=(0, 1, 0, 252)).fit(disp=-1)\n",
        "    # Fit the model \n",
        "    preds = model.predict(start=train_value.shape[0]+1, end = train_value.shape[0]+valid_value.shape[0])\n",
        "    mape.append(mean_absolute_percentage_error(preds, valid_value))"
      ],
      "metadata": {
        "id": "bKN6tec7HJOh"
      },
      "execution_count": null,
      "outputs": []
    },
    {
      "cell_type": "code",
      "source": [
        "mape"
      ],
      "metadata": {
        "id": "AGE-a_PJHJQ2"
      },
      "execution_count": null,
      "outputs": []
    },
    {
      "cell_type": "code",
      "source": [
        "model = SARIMAX(train, order=(2, 1, 0), seasonal_order=(0, 1, 0, 252)).fit(disp=-1)"
      ],
      "metadata": {
        "id": "GnW1Qbo3HJTn"
      },
      "execution_count": null,
      "outputs": []
    },
    {
      "cell_type": "code",
      "source": [
        "preds, conf_int = model.predict(start=train.shape[0]+1, end = train.shape[0]+test.shape[0], return_conf_int=True)"
      ],
      "metadata": {
        "id": "Xgwf3W7PHJVv"
      },
      "execution_count": null,
      "outputs": []
    },
    {
      "cell_type": "code",
      "source": [
        "preds = pd.DataFrame(preds)\n",
        "preds.index = test.index"
      ],
      "metadata": {
        "id": "h4R7TxE_HeYW"
      },
      "execution_count": null,
      "outputs": []
    },
    {
      "cell_type": "code",
      "source": [
        "plt.plot(preds, label = 'Prediction')\n",
        "plt.plot(american, label = 'Train')\n",
        "plt.plot(test, label = 'Actual')\n",
        "plt.fill_between(test.index, conf_int[:, 0], conf_int[:, 1],\n",
        "                 alpha=0.1, color='b')\n",
        "\n",
        "plt.title(\"American Forecast\")\n",
        "plt.xlabel(\"Year\")\n",
        "plt.ylabel(\"Adjusted Close\")\n",
        "plt.legend(loc='upper left')"
      ],
      "metadata": {
        "id": "m7wH5sVPHebL"
      },
      "execution_count": null,
      "outputs": []
    },
    {
      "cell_type": "code",
      "source": [
        "print(\"MSE: %.3f\" % mean_squared_error(test, preds))\n",
        "print(\"MSLE: %.3f\" % mean_squared_log_error(test, preds))\n",
        "print(\"MAPE: %.3f\" % mean_absolute_percentage_error(test, preds))"
      ],
      "metadata": {
        "id": "rp-zIPLXHeq-"
      },
      "execution_count": null,
      "outputs": []
    },
    {
      "cell_type": "markdown",
      "source": [
        "#Amazon"
      ],
      "metadata": {
        "id": "IKbT309RIHwP"
      }
    },
    {
      "cell_type": "code",
      "source": [
        "plot_pacf(amazon);\n",
        "plot_acf(amazon);"
      ],
      "metadata": {
        "colab": {
          "base_uri": "https://localhost:8080/",
          "height": 545
        },
        "id": "NvNjy2NcI3Z8",
        "outputId": "19e9092a-3f4f-492f-ad76-9dada4edab37"
      },
      "execution_count": 14,
      "outputs": [
        {
          "output_type": "display_data",
          "data": {
            "text/plain": [
              "<Figure size 432x288 with 1 Axes>"
            ],
            "image/png": "[encoded data removed]"
          },
          "metadata": {
            "needs_background": "light"
          }
        },
        {
          "output_type": "display_data",
          "data": {
            "text/plain": [
              "<Figure size 432x288 with 1 Axes>"
            ],
            "image/png": "[encoded data removed]"
          },
          "metadata": {
            "needs_background": "light"
          }
        }
      ]
    },
    {
      "cell_type": "code",
      "source": [
        "ad_fuller_result = adfuller(amazon.diff().dropna())\n",
        "print(f'ADF Statistic: {ad_fuller_result[0]}')\n",
        "print(f'p-value: {ad_fuller_result[1]}')"
      ],
      "metadata": {
        "colab": {
          "base_uri": "https://localhost:8080/"
        },
        "id": "T-JZ_PxDI3x5",
        "outputId": "52066df1-40ce-4400-fc07-2bfabd84903c"
      },
      "execution_count": 15,
      "outputs": [
        {
          "output_type": "stream",
          "name": "stdout",
          "text": [
            "ADF Statistic: -11.017131969118763\n",
            "p-value: 6.116572709856831e-20\n"
          ]
        }
      ]
    },
    {
      "cell_type": "code",
      "source": [
        "train = amazon.iloc[:int(amazon.shape[0]*0.8)]\n",
        "test = amazon.iloc[int(amazon.shape[0]*0.8):]"
      ],
      "metadata": {
        "id": "my-7cdbJI30i"
      },
      "execution_count": 16,
      "outputs": []
    },
    {
      "cell_type": "code",
      "source": [
        "mape = []\n",
        "tscv = TimeSeriesSplit(max_train_size = None, n_splits = 3)\n",
        "for train_index, valid_index in tscv.split(train):\n",
        "    train_value, valid_value = train.iloc[train_index, :], train.iloc[valid_index, :]\n",
        "    model = SARIMAX(train_value, order=(2,1,0), seasonal_order=(0, 1, 0, 252)).fit(disp=-1)\n",
        "    # Fit the model \n",
        "    preds = model.predict(start=train_value.shape[0]+1, end = train_value.shape[0]+valid_value.shape[0])\n",
        "    mape.append(mean_absolute_percentage_error(preds, valid_value))"
      ],
      "metadata": {
        "id": "0PS7DPtSI33t"
      },
      "execution_count": null,
      "outputs": []
    },
    {
      "cell_type": "code",
      "source": [
        "mape"
      ],
      "metadata": {
        "id": "bKdg6b-kI36g"
      },
      "execution_count": null,
      "outputs": []
    },
    {
      "cell_type": "code",
      "source": [
        "model = SARIMAX(train, order=(2, 1, 0), seasonal_order=(0, 1, 0, 252)).fit(disp=-1)"
      ],
      "metadata": {
        "id": "sYWqVa1fI39h"
      },
      "execution_count": null,
      "outputs": []
    },
    {
      "cell_type": "code",
      "source": [
        "preds, conf_int = model.predict(start=train.shape[0]+1, end = train.shape[0]+test.shape[0], return_conf_int=True)"
      ],
      "metadata": {
        "id": "ykKgHIp3I4AJ"
      },
      "execution_count": null,
      "outputs": []
    },
    {
      "cell_type": "code",
      "source": [
        "preds = pd.DataFrame(preds)\n",
        "preds.index = test.index"
      ],
      "metadata": {
        "id": "kn53Y8RWI4C9"
      },
      "execution_count": null,
      "outputs": []
    },
    {
      "cell_type": "code",
      "source": [
        "plt.plot(preds, label = 'Prediction')\n",
        "plt.plot(amazon, label = 'Train')\n",
        "plt.plot(test, label = 'Actual')\n",
        "plt.fill_between(test.index, conf_int[:, 0], conf_int[:, 1],\n",
        "                 alpha=0.1, color='b')\n",
        "\n",
        "plt.title(\"Amazon Forecast\")\n",
        "plt.xlabel(\"Year\")\n",
        "plt.ylabel(\"Adjusted Close\")\n",
        "plt.legend(loc='upper left')"
      ],
      "metadata": {
        "id": "kTBSIAUNJEql"
      },
      "execution_count": null,
      "outputs": []
    },
    {
      "cell_type": "code",
      "source": [
        "print(\"MSE: %.3f\" % mean_squared_error(test, preds))\n",
        "print(\"MSLE: %.3f\" % mean_squared_log_error(test, preds))\n",
        "print(\"MAPE: %.3f\" % mean_absolute_percentage_error(test, preds))"
      ],
      "metadata": {
        "id": "C6OnQIOQJEr7"
      },
      "execution_count": null,
      "outputs": []
    },
    {
      "cell_type": "markdown",
      "source": [
        "#Pfizer"
      ],
      "metadata": {
        "id": "MksDNHRLJQFq"
      }
    },
    {
      "cell_type": "code",
      "source": [
        "plot_pacf(pfizer);\n",
        "plot_acf(pfizer);"
      ],
      "metadata": {
        "colab": {
          "base_uri": "https://localhost:8080/",
          "height": 545
        },
        "id": "WslEvEaJJS3K",
        "outputId": "b1da8cc7-5c20-42bb-e481-4efb96b278aa"
      },
      "execution_count": 17,
      "outputs": [
        {
          "output_type": "display_data",
          "data": {
            "text/plain": [
              "<Figure size 432x288 with 1 Axes>"
            ],
            "image/png": "[encoded data removed]"
          },
          "metadata": {
            "needs_background": "light"
          }
        },
        {
          "output_type": "display_data",
          "data": {
            "text/plain": [
              "<Figure size 432x288 with 1 Axes>"
            ],
            "image/png": "[encoded data removed]"
          },
          "metadata": {
            "needs_background": "light"
          }
        }
      ]
    },
    {
      "cell_type": "code",
      "source": [
        "ad_fuller_result = adfuller(pfizer.diff().dropna())\n",
        "print(f'ADF Statistic: {ad_fuller_result[0]}')\n",
        "print(f'p-value: {ad_fuller_result[1]}')"
      ],
      "metadata": {
        "colab": {
          "base_uri": "https://localhost:8080/"
        },
        "id": "zhQMjV-rJTQV",
        "outputId": "ad0f977e-fc8d-4253-f396-1ab50ff0e8ba"
      },
      "execution_count": 18,
      "outputs": [
        {
          "output_type": "stream",
          "name": "stdout",
          "text": [
            "ADF Statistic: -10.583525897147599\n",
            "p-value: 6.808709928033863e-19\n"
          ]
        }
      ]
    },
    {
      "cell_type": "code",
      "source": [
        "train = pfizer.iloc[:int(pfizer.shape[0]*0.8)]\n",
        "test = pfizer.iloc[int(pfizer.shape[0]*0.8):]"
      ],
      "metadata": {
        "id": "z3rgcLxTJTSm"
      },
      "execution_count": 19,
      "outputs": []
    },
    {
      "cell_type": "code",
      "source": [
        "mape = []\n",
        "tscv = TimeSeriesSplit(max_train_size = None, n_splits = 3)\n",
        "for train_index, valid_index in tscv.split(train):\n",
        "    train_value, valid_value = train.iloc[train_index, :], train.iloc[valid_index, :]\n",
        "    model = SARIMAX(train_value, order=(2,1,0), seasonal_order=(0, 1, 0, 252)).fit(disp=-1)\n",
        "    # Fit the model \n",
        "    preds = model.predict(start=train_value.shape[0]+1, end = train_value.shape[0]+valid_value.shape[0])\n",
        "    mape.append(mean_absolute_percentage_error(preds, valid_value))"
      ],
      "metadata": {
        "id": "1rJpIjiuJTVW"
      },
      "execution_count": null,
      "outputs": []
    },
    {
      "cell_type": "code",
      "source": [
        "mape"
      ],
      "metadata": {
        "id": "mA3GbNWZJTXk"
      },
      "execution_count": null,
      "outputs": []
    },
    {
      "cell_type": "code",
      "source": [
        "model = SARIMAX(train, order=(2, 1, 0), seasonal_order=(0, 1, 0, 252)).fit(disp=-1)"
      ],
      "metadata": {
        "id": "GUAtmj3DJTZ8"
      },
      "execution_count": null,
      "outputs": []
    },
    {
      "cell_type": "code",
      "source": [
        "preds, conf_int = model.predict(start=train.shape[0]+1, end = train.shape[0]+test.shape[0], return_conf_int=True)"
      ],
      "metadata": {
        "id": "fYHj1pSIJTcV"
      },
      "execution_count": null,
      "outputs": []
    },
    {
      "cell_type": "code",
      "source": [
        "preds = pd.DataFrame(preds)\n",
        "preds.index = test.index"
      ],
      "metadata": {
        "id": "mveQ663zJTey"
      },
      "execution_count": null,
      "outputs": []
    },
    {
      "cell_type": "code",
      "source": [
        "plt.plot(preds, label = 'Prediction')\n",
        "plt.plot(pfizer, label = 'Train')\n",
        "plt.plot(test, label = 'Actual')\n",
        "plt.fill_between(test.index, conf_int[:, 0], conf_int[:, 1],\n",
        "                 alpha=0.1, color='b')\n",
        "\n",
        "plt.title(\"Pfizer Forecast\")\n",
        "plt.xlabel(\"Year\")\n",
        "plt.ylabel(\"Adjusted Close\")\n",
        "plt.legend(loc='upper left')"
      ],
      "metadata": {
        "id": "SDtR7UBUJThM"
      },
      "execution_count": null,
      "outputs": []
    },
    {
      "cell_type": "code",
      "source": [
        "print(\"MSE: %.3f\" % mean_squared_error(test, preds))\n",
        "print(\"MSLE: %.3f\" % mean_squared_log_error(test, preds))\n",
        "print(\"MAPE: %.3f\" % mean_absolute_percentage_error(test, preds))"
      ],
      "metadata": {
        "id": "5SU-vqoxJTkD"
      },
      "execution_count": null,
      "outputs": []
    },
    {
      "cell_type": "markdown",
      "source": [
        "#Deutsche"
      ],
      "metadata": {
        "id": "wHvtMzevJoJP"
      }
    },
    {
      "cell_type": "code",
      "source": [
        "plot_pacf(d_bank);\n",
        "plot_acf(d_bank);"
      ],
      "metadata": {
        "colab": {
          "base_uri": "https://localhost:8080/",
          "height": 545
        },
        "id": "yDp_POdJJrH6",
        "outputId": "efa37aee-546e-4fdc-a735-4d793fa6061f"
      },
      "execution_count": 20,
      "outputs": [
        {
          "output_type": "display_data",
          "data": {
            "text/plain": [
              "<Figure size 432x288 with 1 Axes>"
            ],
            "image/png": "[encoded data removed]"
          },
          "metadata": {
            "needs_background": "light"
          }
        },
        {
          "output_type": "display_data",
          "data": {
            "text/plain": [
              "<Figure size 432x288 with 1 Axes>"
            ],
            "image/png": "[encoded data removed]"
          },
          "metadata": {
            "needs_background": "light"
          }
        }
      ]
    },
    {
      "cell_type": "code",
      "source": [
        "ad_fuller_result = adfuller(d_bank.diff().dropna())\n",
        "print(f'ADF Statistic: {ad_fuller_result[0]}')\n",
        "print(f'p-value: {ad_fuller_result[1]}')"
      ],
      "metadata": {
        "colab": {
          "base_uri": "https://localhost:8080/"
        },
        "id": "tNUDyKRdJt9n",
        "outputId": "0cef3795-be94-4bb7-a802-5e2d649080ad"
      },
      "execution_count": 21,
      "outputs": [
        {
          "output_type": "stream",
          "name": "stdout",
          "text": [
            "ADF Statistic: -10.618628052665592\n",
            "p-value: 5.5898326458288e-19\n"
          ]
        }
      ]
    },
    {
      "cell_type": "code",
      "source": [
        "train = d_bank.iloc[:int(d_bank.shape[0]*0.8)]\n",
        "test = d_bank.iloc[int(d_bank.shape[0]*0.8):]"
      ],
      "metadata": {
        "id": "dkZpAw1rJt__"
      },
      "execution_count": 22,
      "outputs": []
    },
    {
      "cell_type": "code",
      "source": [
        "mape = []\n",
        "tscv = TimeSeriesSplit(max_train_size = None, n_splits = 3)\n",
        "for train_index, valid_index in tscv.split(train):\n",
        "    train_value, valid_value = train.iloc[train_index, :], train.iloc[valid_index, :]\n",
        "    model = SARIMAX(train_value, order=(2,1,0), seasonal_order=(0, 1, 0, 252)).fit(disp=-1)\n",
        "    # Fit the model \n",
        "    preds = model.predict(start=train_value.shape[0]+1, end = train_value.shape[0]+valid_value.shape[0])\n",
        "    mape.append(mean_absolute_percentage_error(preds, valid_value))"
      ],
      "metadata": {
        "id": "hZzipCyeJuEv"
      },
      "execution_count": null,
      "outputs": []
    },
    {
      "cell_type": "code",
      "source": [
        "mape"
      ],
      "metadata": {
        "id": "vIo1AFh_JuHX"
      },
      "execution_count": null,
      "outputs": []
    },
    {
      "cell_type": "code",
      "source": [
        "model = SARIMAX(train, order=(2, 1, 0), seasonal_order=(0, 1, 0, 252)).fit(disp=-1)"
      ],
      "metadata": {
        "id": "mKTP4Bz3JuJ4"
      },
      "execution_count": null,
      "outputs": []
    },
    {
      "cell_type": "code",
      "source": [
        "preds, conf_int = model.predict(start=train.shape[0]+1, end = train.shape[0]+test.shape[0], return_conf_int=True)"
      ],
      "metadata": {
        "id": "otT-1L6UJuMf"
      },
      "execution_count": null,
      "outputs": []
    },
    {
      "cell_type": "code",
      "source": [
        "preds = pd.DataFrame(preds)\n",
        "preds.index = test.index"
      ],
      "metadata": {
        "id": "1RX9ltYzJuPI"
      },
      "execution_count": null,
      "outputs": []
    },
    {
      "cell_type": "code",
      "source": [
        "plt.plot(preds, label = 'Prediction')\n",
        "plt.plot(d_bank, label = 'Train')\n",
        "plt.plot(test, label = 'Actual')\n",
        "plt.fill_between(test.index, conf_int[:, 0], conf_int[:, 1],\n",
        "                 alpha=0.1, color='b')\n",
        "\n",
        "plt.title(\"Deutsche Bank Forecast\")\n",
        "plt.xlabel(\"Year\")\n",
        "plt.ylabel(\"Adjusted Close\")\n",
        "plt.legend(loc='upper left')"
      ],
      "metadata": {
        "id": "fu2TL6H3JuSe"
      },
      "execution_count": null,
      "outputs": []
    },
    {
      "cell_type": "code",
      "source": [
        "print(\"MSE: %.3f\" % mean_squared_error(test, preds))\n",
        "print(\"MSLE: %.3f\" % mean_squared_log_error(test, preds))\n",
        "print(\"MAPE: %.3f\" % mean_absolute_percentage_error(test, preds))"
      ],
      "metadata": {
        "id": "yjH4swb2JuVb"
      },
      "execution_count": null,
      "outputs": []
    },
    {
      "cell_type": "markdown",
      "source": [
        "#Walmart"
      ],
      "metadata": {
        "id": "uNQjiFGNJ7ys"
      }
    },
    {
      "cell_type": "code",
      "source": [
        "plot_pacf(d_bank);\n",
        "plot_acf(d_bank);"
      ],
      "metadata": {
        "colab": {
          "base_uri": "https://localhost:8080/",
          "height": 545
        },
        "id": "4HfFI0hyJ-_Z",
        "outputId": "d28d438d-d5e6-4653-e5f2-8dd1c6d08e22"
      },
      "execution_count": 23,
      "outputs": [
        {
          "output_type": "display_data",
          "data": {
            "text/plain": [
              "<Figure size 432x288 with 1 Axes>"
            ],
            "image/png": "[encoded data removed]"
          },
          "metadata": {
            "needs_background": "light"
          }
        },
        {
          "output_type": "display_data",
          "data": {
            "text/plain": [
              "<Figure size 432x288 with 1 Axes>"
            ],
            "image/png": "[encoded data removed]"
          },
          "metadata": {
            "needs_background": "light"
          }
        }
      ]
    },
    {
      "cell_type": "code",
      "source": [
        "ad_fuller_result = adfuller(d_bank.diff().dropna())\n",
        "print(f'ADF Statistic: {ad_fuller_result[0]}')\n",
        "print(f'p-value: {ad_fuller_result[1]}')"
      ],
      "metadata": {
        "colab": {
          "base_uri": "https://localhost:8080/"
        },
        "id": "U4ypcnRzJ_cY",
        "outputId": "93c8bd70-8560-40c6-f893-6360759ea325"
      },
      "execution_count": 24,
      "outputs": [
        {
          "output_type": "stream",
          "name": "stdout",
          "text": [
            "ADF Statistic: -10.618628052665592\n",
            "p-value: 5.5898326458288e-19\n"
          ]
        }
      ]
    },
    {
      "cell_type": "code",
      "source": [
        "train = d_bank.iloc[:int(d_bank.shape[0]*0.8)]\n",
        "test = d_bank.iloc[int(d_bank.shape[0]*0.8):]"
      ],
      "metadata": {
        "id": "iDeIRQM0J_eh"
      },
      "execution_count": 25,
      "outputs": []
    },
    {
      "cell_type": "code",
      "source": [
        "mape = []\n",
        "tscv = TimeSeriesSplit(max_train_size = None, n_splits = 3)\n",
        "for train_index, valid_index in tscv.split(train):\n",
        "    train_value, valid_value = train.iloc[train_index, :], train.iloc[valid_index, :]\n",
        "    model = SARIMAX(train_value, order=(2,1,0), seasonal_order=(0, 1, 0, 252)).fit(disp=-1)\n",
        "    # Fit the model \n",
        "    preds = model.predict(start=train_value.shape[0]+1, end = train_value.shape[0]+valid_value.shape[0])\n",
        "    mape.append(mean_absolute_percentage_error(preds, valid_value))"
      ],
      "metadata": {
        "id": "PQXJfmAqJ_hL"
      },
      "execution_count": null,
      "outputs": []
    },
    {
      "cell_type": "code",
      "source": [
        "mape"
      ],
      "metadata": {
        "id": "MlQdcz45J_jc"
      },
      "execution_count": null,
      "outputs": []
    },
    {
      "cell_type": "code",
      "source": [
        "model = SARIMAX(train, order=(2, 1, 0), seasonal_order=(0, 1, 0, 252)).fit(disp=-1)"
      ],
      "metadata": {
        "id": "THxhJJjKJ_mK"
      },
      "execution_count": null,
      "outputs": []
    },
    {
      "cell_type": "code",
      "source": [
        "preds, conf_int = model.predict(start=train.shape[0]+1, end = train.shape[0]+test.shape[0], return_conf_int=True)"
      ],
      "metadata": {
        "id": "xyjY7wLSJ_ob"
      },
      "execution_count": null,
      "outputs": []
    },
    {
      "cell_type": "code",
      "source": [
        "preds = pd.DataFrame(preds)\n",
        "preds.index = test.index"
      ],
      "metadata": {
        "id": "ndun5KPSJ_qe"
      },
      "execution_count": null,
      "outputs": []
    },
    {
      "cell_type": "code",
      "source": [
        "plt.plot(preds, label = 'Prediction')\n",
        "plt.plot(d_bank, label = 'Train')\n",
        "plt.plot(test, label = 'Actual')\n",
        "plt.fill_between(test.index, conf_int[:, 0], conf_int[:, 1],\n",
        "                 alpha=0.1, color='b')\n",
        "\n",
        "plt.title(\"Deutsche Bank Forecast\")\n",
        "plt.xlabel(\"Year\")\n",
        "plt.ylabel(\"Adjusted Close\")\n",
        "plt.legend(loc='upper left')"
      ],
      "metadata": {
        "id": "ANC3ilesJ_tI"
      },
      "execution_count": null,
      "outputs": []
    },
    {
      "cell_type": "code",
      "source": [
        "print(\"MSE: %.3f\" % mean_squared_error(test, preds))\n",
        "print(\"MSLE: %.3f\" % mean_squared_log_error(test, preds))\n",
        "print(\"MAPE: %.3f\" % mean_absolute_percentage_error(test, preds))"
      ],
      "metadata": {
        "id": "oGpTI2nKJ_yC"
      },
      "execution_count": null,
      "outputs": []
    }
  ]
}